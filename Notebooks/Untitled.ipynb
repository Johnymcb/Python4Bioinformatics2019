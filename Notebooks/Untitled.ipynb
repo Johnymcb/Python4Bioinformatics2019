{
 "cells": [
  {
   "cell_type": "code",
   "execution_count": 1,
   "metadata": {},
   "outputs": [],
   "source": [
    "# Handling file"
   ]
  },
  {
   "cell_type": "code",
   "execution_count": 2,
   "metadata": {},
   "outputs": [],
   "source": [
    "# 1. Reading files."
   ]
  },
  {
   "cell_type": "code",
   "execution_count": 11,
   "metadata": {},
   "outputs": [],
   "source": [
    "file_handle = open('readme.txt', 'r'),#syntax of open function\n",
    "#file_handle "
   ]
  },
  {
   "cell_type": "code",
   "execution_count": 19,
   "metadata": {},
   "outputs": [
    {
     "data": {
      "text/plain": [
       "'This is my first day of learning python\\n'"
      ]
     },
     "execution_count": 19,
     "metadata": {},
     "output_type": "execute_result"
    }
   ],
   "source": [
    "file_handle = open('/Users/johnoketch/untitled.txt', 'r')\n",
    "file_handle.readline()"
   ]
  },
  {
   "cell_type": "code",
   "execution_count": 23,
   "metadata": {},
   "outputs": [
    {
     "data": {
      "text/plain": [
       "['This is my first day of learning python\\n',\n",
       " 'This is my second day of learning python\\n',\n",
       " 'This is my third day of learning python\\n',\n",
       " 'This is my fourth day of learning python\\n']"
      ]
     },
     "execution_count": 23,
     "metadata": {},
     "output_type": "execute_result"
    }
   ],
   "source": [
    "file_handle = open('/Users/johnoketch/untitled.txt', 'r')\n",
    "file_handle.readlines()\n"
   ]
  },
  {
   "cell_type": "code",
   "execution_count": 24,
   "metadata": {},
   "outputs": [],
   "source": [
    "file_handle.close()"
   ]
  },
  {
   "cell_type": "code",
   "execution_count": 31,
   "metadata": {},
   "outputs": [],
   "source": [
    "# one can use with -- open to close the file automatically\n",
    "with open('/Users/johnoketch/untitled.txt', 'r') as file_handle:\n",
    "    file_handle.readlines()"
   ]
  },
  {
   "cell_type": "code",
   "execution_count": null,
   "metadata": {},
   "outputs": [],
   "source": [
    "# Writing files"
   ]
  },
  {
   "cell_type": "code",
   "execution_count": 32,
   "metadata": {},
   "outputs": [],
   "source": [
    "with open('/Users/johnoketch/numbers.txt','w') as fh: # creating a file and writing in the file and closing it.\n",
    "    fh.write('1\\n2\\n3\\n4\\n5')\n"
   ]
  },
  {
   "cell_type": "code",
   "execution_count": null,
   "metadata": {},
   "outputs": [],
   "source": [
    "# handling CSV files"
   ]
  },
  {
   "cell_type": "code",
   "execution_count": 40,
   "metadata": {},
   "outputs": [
    {
     "name": "stdout",
     "output_type": "stream",
     "text": [
      "119\n",
      "374\n",
      "495\n",
      "715\n",
      "953\n"
     ]
    }
   ],
   "source": [
    "total_len = 0\n",
    "with open('/Users/johnoketch/B1.csv') as fh:\n",
    "    next(fh)\n",
    "    for n, line in enumerate(fh):\n",
    "        data = line.split(',')\n",
    "        total_len += int(data[1])\n",
    "        print(total_len)"
   ]
  },
  {
   "cell_type": "code",
   "execution_count": 42,
   "metadata": {},
   "outputs": [
    {
     "name": "stdout",
     "output_type": "stream",
     "text": [
      "119\n",
      "374\n",
      "495\n",
      "715\n",
      "953\n"
     ]
    }
   ],
   "source": [
    "import csv\n",
    "total_len=0\n",
    "lines = csv.reader(open('/Users/johnoketch/B1.csv'))\n",
    "next(lines)\n",
    "for n, line in enumerate(lines):\n",
    "    total_len += int(line[1])\n",
    "    print(total_len)"
   ]
  },
  {
   "cell_type": "code",
   "execution_count": 17,
   "metadata": {},
   "outputs": [],
   "source": [
    "with open('/Users/johnoketch/B1.csv', 'r') as fh:\n",
    "    data = fh.read()\n",
    "    with open('/Users/johnoketch/numbers.txt', 'w') as newfile:\n",
    "        newfile.write(data)\n",
    "    "
   ]
  },
  {
   "cell_type": "code",
   "execution_count": null,
   "metadata": {},
   "outputs": [],
   "source": [
    "# FILE HANDLING: OS, OS.PATH, SHUTIL, AND PATH.PY MODULE"
   ]
  },
  {
   "cell_type": "code",
   "execution_count": 1,
   "metadata": {},
   "outputs": [
    {
     "data": {
      "text/plain": [
       "'/Users/johnoketch/Python_lessons/Python4Bioinformatics2019/Notebooks'"
      ]
     },
     "execution_count": 1,
     "metadata": {},
     "output_type": "execute_result"
    }
   ],
   "source": [
    "import os # The os module handles an interface with the Operating System\n",
    "os.getcwd()"
   ]
  },
  {
   "cell_type": "code",
   "execution_count": 2,
   "metadata": {},
   "outputs": [
    {
     "data": {
      "text/plain": [
       "Path('/Users/johnoketch/newfile.text')"
      ]
     },
     "execution_count": 2,
     "metadata": {},
     "output_type": "execute_result"
    }
   ],
   "source": [
    "from path import Path\n",
    "f = Path('/Users/johnoketch/newfile.text')\n",
    "f.touch()"
   ]
  },
  {
   "cell_type": "code",
   "execution_count": 3,
   "metadata": {},
   "outputs": [
    {
     "data": {
      "text/plain": [
       "True"
      ]
     },
     "execution_count": 3,
     "metadata": {},
     "output_type": "execute_result"
    }
   ],
   "source": [
    "f.isfile()"
   ]
  },
  {
   "cell_type": "code",
   "execution_count": 4,
   "metadata": {},
   "outputs": [
    {
     "data": {
      "text/plain": [
       "'.text'"
      ]
     },
     "execution_count": 4,
     "metadata": {},
     "output_type": "execute_result"
    }
   ],
   "source": [
    "f.ext"
   ]
  },
  {
   "cell_type": "code",
   "execution_count": 5,
   "metadata": {},
   "outputs": [
    {
     "data": {
      "text/plain": [
       "Path('newfile.text')"
      ]
     },
     "execution_count": 5,
     "metadata": {},
     "output_type": "execute_result"
    }
   ],
   "source": [
    "f.name"
   ]
  },
  {
   "cell_type": "code",
   "execution_count": 6,
   "metadata": {},
   "outputs": [
    {
     "data": {
      "text/plain": [
       "Path('/Users/johnoketch')"
      ]
     },
     "execution_count": 6,
     "metadata": {},
     "output_type": "execute_result"
    }
   ],
   "source": [
    "f.parent"
   ]
  },
  {
   "cell_type": "code",
   "execution_count": 8,
   "metadata": {},
   "outputs": [
    {
     "data": {
      "text/plain": [
       "[Path('/Users/johnoketch/.Rhistory'),\n",
       " Path('/Users/johnoketch/.condarc'),\n",
       " Path('/Users/johnoketch/Untitled1.ipynb'),\n",
       " Path('/Users/johnoketch/numbers.txt'),\n",
       " Path('/Users/johnoketch/B1.csv'),\n",
       " Path('/Users/johnoketch/.DS_Store'),\n",
       " Path('/Users/johnoketch/.CFUserTextEncoding'),\n",
       " Path('/Users/johnoketch/Untitled3.ipynb'),\n",
       " Path('/Users/johnoketch/Untitled.ipynb'),\n",
       " Path('/Users/johnoketch/9'),\n",
       " Path('/Users/johnoketch/Untitled2.ipynb'),\n",
       " Path('/Users/johnoketch/newfile.text'),\n",
       " Path('/Users/johnoketch/Geneious Prime Backup 2019-02-14.backup.zip'),\n",
       " Path('/Users/johnoketch/untitled.txt'),\n",
       " Path('/Users/johnoketch/.bash_profile-anaconda2.bak'),\n",
       " Path('/Users/johnoketch/.bash_profile-anaconda3.bak'),\n",
       " Path('/Users/johnoketch/.RData'),\n",
       " Path('/Users/johnoketch/.profile'),\n",
       " Path('/Users/johnoketch/.Rapp.history'),\n",
       " Path('/Users/johnoketch/.bash_profile'),\n",
       " Path('/Users/johnoketch/.python_history'),\n",
       " Path('/Users/johnoketch/.bash_history'),\n",
       " Path('/Users/johnoketch/.viminfo')]"
      ]
     },
     "execution_count": 8,
     "metadata": {},
     "output_type": "execute_result"
    }
   ],
   "source": [
    "d = Path('/Users/johnoketch/')\n",
    "d.files()"
   ]
  },
  {
   "cell_type": "code",
   "execution_count": 11,
   "metadata": {},
   "outputs": [
    {
     "data": {
      "text/plain": [
       "[]"
      ]
     },
     "execution_count": 11,
     "metadata": {},
     "output_type": "execute_result"
    }
   ],
   "source": [
    "d.files('*.pdf')"
   ]
  },
  {
   "cell_type": "code",
   "execution_count": 31,
   "metadata": {},
   "outputs": [],
   "source": [
    "def protcharge(aa_seq): # \"\"\"Returns the net charge of a protein sequence\"\"\"\n",
    "    protseq = aa_seq.upper()\n",
    "    charge = -0.002\n",
    "    aa_charge = {'C':-.045, 'D':-.999, 'E':-.998, 'H':.091,\n",
    "                'K':1, 'R':1, 'Y':-.001}\n",
    "    for aa in protseq:\n",
    "        charge += aa_charge.get(aa,[1])\n",
    "        return charge"
   ]
  },
  {
   "cell_type": "code",
   "execution_count": 24,
   "metadata": {},
   "outputs": [
    {
     "data": {
      "text/plain": [
       "-1.0"
      ]
     },
     "execution_count": 24,
     "metadata": {},
     "output_type": "execute_result"
    }
   ],
   "source": [
    "protcharge('EEARGPLRGKGDQKSAVSQKPRSRGILH')\n"
   ]
  },
  {
   "cell_type": "code",
   "execution_count": 33,
   "metadata": {},
   "outputs": [],
   "source": [
    "def g_all_primes(n):\n",
    "    for number in range(1,n):\n",
    "        if is_prime(number):\n",
    "            yield number"
   ]
  },
  {
   "cell_type": "code",
   "execution_count": 35,
   "metadata": {},
   "outputs": [
    {
     "data": {
      "text/plain": [
       "<generator object g_all_primes at 0x1074ab1b0>"
      ]
     },
     "execution_count": 35,
     "metadata": {},
     "output_type": "execute_result"
    }
   ],
   "source": [
    "g_all_primes(100)"
   ]
  },
  {
   "cell_type": "code",
   "execution_count": 42,
   "metadata": {},
   "outputs": [
    {
     "data": {
      "text/plain": [
       "['/Users/johnoketch/Python_lessons/Python4Bioinformatics2019/Notebooks',\n",
       " '/Users/johnoketch/anaconda3/lib/python37.zip',\n",
       " '/Users/johnoketch/anaconda3/lib/python3.7',\n",
       " '/Users/johnoketch/anaconda3/lib/python3.7/lib-dynload',\n",
       " '',\n",
       " '/Users/johnoketch/anaconda3/lib/python3.7/site-packages',\n",
       " '/Users/johnoketch/anaconda3/lib/python3.7/site-packages/aeosa',\n",
       " '/Users/johnoketch/anaconda3/lib/python3.7/site-packages/IPython/extensions',\n",
       " '/Users/johnoketch/.ipython']"
      ]
     },
     "execution_count": 42,
     "metadata": {},
     "output_type": "execute_result"
    }
   ],
   "source": [
    "import sys\n",
    "sys.path"
   ]
  },
  {
   "cell_type": "code",
   "execution_count": null,
   "metadata": {},
   "outputs": [],
   "source": [
    "import sys\n",
    "sys.path"
   ]
  },
  {
   "cell_type": "code",
   "execution_count": 1,
   "metadata": {},
   "outputs": [
    {
     "data": {
      "text/plain": [
       "2"
      ]
     },
     "execution_count": 1,
     "metadata": {},
     "output_type": "execute_result"
    }
   ],
   "source": [
    "5//2"
   ]
  },
  {
   "cell_type": "code",
   "execution_count": 2,
   "metadata": {},
   "outputs": [
    {
     "data": {
      "text/plain": [
       "5"
      ]
     },
     "execution_count": 2,
     "metadata": {},
     "output_type": "execute_result"
    }
   ],
   "source": [
    "401//80"
   ]
  },
  {
   "cell_type": "code",
   "execution_count": null,
   "metadata": {},
   "outputs": [],
   "source": [
    "for i in range"
   ]
  }
 ],
 "metadata": {
  "kernelspec": {
   "display_name": "Python 3",
   "language": "python",
   "name": "python3"
  },
  "language_info": {
   "codemirror_mode": {
    "name": "ipython",
    "version": 3
   },
   "file_extension": ".py",
   "mimetype": "text/x-python",
   "name": "python",
   "nbconvert_exporter": "python",
   "pygments_lexer": "ipython3",
   "version": "3.7.2"
  }
 },
 "nbformat": 4,
 "nbformat_minor": 2
}
