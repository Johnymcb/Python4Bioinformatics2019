{
 "cells": [
  {
   "cell_type": "markdown",
   "metadata": {},
   "source": [
    "TASK ONE\n",
    "Open pdb file from user input\n",
    "Indicate errors if file not found,wrong path\n",
    "Validate the file if a pdb file\n",
    "Raise error if not a pdb file\n",
    "Display the file name once file successfuly loaded\n",
    "If file has been loaded a message should pop to asking to confirm replacing the old file."
   ]
  }
 ],
 "metadata": {
  "kernelspec": {
   "display_name": "Python 3",
   "language": "python",
   "name": "python3"
  },
  "language_info": {
   "codemirror_mode": {
    "name": "ipython",
    "version": 3
   },
   "file_extension": ".py",
   "mimetype": "text/x-python",
   "name": "python",
   "nbconvert_exporter": "python",
   "pygments_lexer": "ipython3",
   "version": "3.7.2"
  }
 },
 "nbformat": 4,
 "nbformat_minor": 2
}
